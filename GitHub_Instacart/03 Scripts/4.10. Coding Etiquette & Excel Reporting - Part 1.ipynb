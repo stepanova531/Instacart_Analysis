{
 "cells": [
  {
   "cell_type": "markdown",
   "id": "bbb7d6e4",
   "metadata": {},
   "source": [
    "## Importing libraris "
   ]
  },
  {
   "cell_type": "code",
   "execution_count": 3,
   "id": "29a69ffb",
   "metadata": {},
   "outputs": [],
   "source": [
    "# Import analysis and visualization libraries\n",
    "import pandas as pd\n",
    "import numpy as np\n",
    "import os\n",
    "import matplotlib.pyplot as plt\n",
    "import seaborn as sns\n",
    "import scipy"
   ]
  },
  {
   "cell_type": "markdown",
   "id": "8e895bb4",
   "metadata": {},
   "source": [
    "## Importing data"
   ]
  },
  {
   "cell_type": "code",
   "execution_count": 5,
   "id": "d63a379c",
   "metadata": {},
   "outputs": [],
   "source": [
    "# Create Path\n",
    "path=r'C:\\Users\\Oksana Stepanova\\OneDrive\\Документи\\Instacart Basket Analysis'"
   ]
  },
  {
   "cell_type": "code",
   "execution_count": 6,
   "id": "df21ffcc",
   "metadata": {},
   "outputs": [],
   "source": [
    "# Import Instacart merged dataframe\n",
    "df_instacart=pd.read_pickle(os.path.join(path, '02 Data', 'Prepared Data', 'instacart_merged.pkl'))"
   ]
  },
  {
   "cell_type": "code",
   "execution_count": 7,
   "id": "750119ea",
   "metadata": {},
   "outputs": [
    {
     "data": {
      "text/html": [
       "<div>\n",
       "<style scoped>\n",
       "    .dataframe tbody tr th:only-of-type {\n",
       "        vertical-align: middle;\n",
       "    }\n",
       "\n",
       "    .dataframe tbody tr th {\n",
       "        vertical-align: top;\n",
       "    }\n",
       "\n",
       "    .dataframe thead th {\n",
       "        text-align: right;\n",
       "    }\n",
       "</style>\n",
       "<table border=\"1\" class=\"dataframe\">\n",
       "  <thead>\n",
       "    <tr style=\"text-align: right;\">\n",
       "      <th></th>\n",
       "      <th>order_id</th>\n",
       "      <th>user_id</th>\n",
       "      <th>order_number</th>\n",
       "      <th>orders_day_of_week</th>\n",
       "      <th>order_hour_of_day</th>\n",
       "      <th>days_since_prior_order</th>\n",
       "      <th>first_order</th>\n",
       "      <th>product_id</th>\n",
       "      <th>add_to_cart_order</th>\n",
       "      <th>reordered</th>\n",
       "      <th>...</th>\n",
       "      <th>spender_flag</th>\n",
       "      <th>median_days_prior_order</th>\n",
       "      <th>order_frequency_flag</th>\n",
       "      <th>gender</th>\n",
       "      <th>states</th>\n",
       "      <th>age</th>\n",
       "      <th>date_joined</th>\n",
       "      <th>number_dependants</th>\n",
       "      <th>family_status</th>\n",
       "      <th>income</th>\n",
       "    </tr>\n",
       "  </thead>\n",
       "  <tbody>\n",
       "    <tr>\n",
       "      <th>0</th>\n",
       "      <td>2539329</td>\n",
       "      <td>1</td>\n",
       "      <td>1</td>\n",
       "      <td>2</td>\n",
       "      <td>8</td>\n",
       "      <td>NaN</td>\n",
       "      <td>True</td>\n",
       "      <td>196</td>\n",
       "      <td>1</td>\n",
       "      <td>0</td>\n",
       "      <td>...</td>\n",
       "      <td>Low spender</td>\n",
       "      <td>20.5</td>\n",
       "      <td>Non-frequent customer</td>\n",
       "      <td>Female</td>\n",
       "      <td>Alabama</td>\n",
       "      <td>31</td>\n",
       "      <td>2/17/2019</td>\n",
       "      <td>3</td>\n",
       "      <td>married</td>\n",
       "      <td>40423</td>\n",
       "    </tr>\n",
       "    <tr>\n",
       "      <th>1</th>\n",
       "      <td>2398795</td>\n",
       "      <td>1</td>\n",
       "      <td>2</td>\n",
       "      <td>3</td>\n",
       "      <td>7</td>\n",
       "      <td>15.0</td>\n",
       "      <td>False</td>\n",
       "      <td>196</td>\n",
       "      <td>1</td>\n",
       "      <td>1</td>\n",
       "      <td>...</td>\n",
       "      <td>Low spender</td>\n",
       "      <td>20.5</td>\n",
       "      <td>Non-frequent customer</td>\n",
       "      <td>Female</td>\n",
       "      <td>Alabama</td>\n",
       "      <td>31</td>\n",
       "      <td>2/17/2019</td>\n",
       "      <td>3</td>\n",
       "      <td>married</td>\n",
       "      <td>40423</td>\n",
       "    </tr>\n",
       "    <tr>\n",
       "      <th>2</th>\n",
       "      <td>473747</td>\n",
       "      <td>1</td>\n",
       "      <td>3</td>\n",
       "      <td>3</td>\n",
       "      <td>12</td>\n",
       "      <td>21.0</td>\n",
       "      <td>False</td>\n",
       "      <td>196</td>\n",
       "      <td>1</td>\n",
       "      <td>1</td>\n",
       "      <td>...</td>\n",
       "      <td>Low spender</td>\n",
       "      <td>20.5</td>\n",
       "      <td>Non-frequent customer</td>\n",
       "      <td>Female</td>\n",
       "      <td>Alabama</td>\n",
       "      <td>31</td>\n",
       "      <td>2/17/2019</td>\n",
       "      <td>3</td>\n",
       "      <td>married</td>\n",
       "      <td>40423</td>\n",
       "    </tr>\n",
       "    <tr>\n",
       "      <th>3</th>\n",
       "      <td>2254736</td>\n",
       "      <td>1</td>\n",
       "      <td>4</td>\n",
       "      <td>4</td>\n",
       "      <td>7</td>\n",
       "      <td>29.0</td>\n",
       "      <td>False</td>\n",
       "      <td>196</td>\n",
       "      <td>1</td>\n",
       "      <td>1</td>\n",
       "      <td>...</td>\n",
       "      <td>Low spender</td>\n",
       "      <td>20.5</td>\n",
       "      <td>Non-frequent customer</td>\n",
       "      <td>Female</td>\n",
       "      <td>Alabama</td>\n",
       "      <td>31</td>\n",
       "      <td>2/17/2019</td>\n",
       "      <td>3</td>\n",
       "      <td>married</td>\n",
       "      <td>40423</td>\n",
       "    </tr>\n",
       "    <tr>\n",
       "      <th>4</th>\n",
       "      <td>431534</td>\n",
       "      <td>1</td>\n",
       "      <td>5</td>\n",
       "      <td>4</td>\n",
       "      <td>15</td>\n",
       "      <td>28.0</td>\n",
       "      <td>False</td>\n",
       "      <td>196</td>\n",
       "      <td>1</td>\n",
       "      <td>1</td>\n",
       "      <td>...</td>\n",
       "      <td>Low spender</td>\n",
       "      <td>20.5</td>\n",
       "      <td>Non-frequent customer</td>\n",
       "      <td>Female</td>\n",
       "      <td>Alabama</td>\n",
       "      <td>31</td>\n",
       "      <td>2/17/2019</td>\n",
       "      <td>3</td>\n",
       "      <td>married</td>\n",
       "      <td>40423</td>\n",
       "    </tr>\n",
       "  </tbody>\n",
       "</table>\n",
       "<p>5 rows × 31 columns</p>\n",
       "</div>"
      ],
      "text/plain": [
       "   order_id  user_id  order_number  orders_day_of_week  order_hour_of_day  \\\n",
       "0   2539329        1             1                   2                  8   \n",
       "1   2398795        1             2                   3                  7   \n",
       "2    473747        1             3                   3                 12   \n",
       "3   2254736        1             4                   4                  7   \n",
       "4    431534        1             5                   4                 15   \n",
       "\n",
       "   days_since_prior_order  first_order  product_id  add_to_cart_order  \\\n",
       "0                     NaN         True         196                  1   \n",
       "1                    15.0        False         196                  1   \n",
       "2                    21.0        False         196                  1   \n",
       "3                    29.0        False         196                  1   \n",
       "4                    28.0        False         196                  1   \n",
       "\n",
       "   reordered  ... spender_flag  median_days_prior_order  \\\n",
       "0          0  ...  Low spender                     20.5   \n",
       "1          1  ...  Low spender                     20.5   \n",
       "2          1  ...  Low spender                     20.5   \n",
       "3          1  ...  Low spender                     20.5   \n",
       "4          1  ...  Low spender                     20.5   \n",
       "\n",
       "    order_frequency_flag  gender   states age date_joined number_dependants  \\\n",
       "0  Non-frequent customer  Female  Alabama  31   2/17/2019                 3   \n",
       "1  Non-frequent customer  Female  Alabama  31   2/17/2019                 3   \n",
       "2  Non-frequent customer  Female  Alabama  31   2/17/2019                 3   \n",
       "3  Non-frequent customer  Female  Alabama  31   2/17/2019                 3   \n",
       "4  Non-frequent customer  Female  Alabama  31   2/17/2019                 3   \n",
       "\n",
       "   family_status income  \n",
       "0        married  40423  \n",
       "1        married  40423  \n",
       "2        married  40423  \n",
       "3        married  40423  \n",
       "4        married  40423  \n",
       "\n",
       "[5 rows x 31 columns]"
      ]
     },
     "execution_count": 7,
     "metadata": {},
     "output_type": "execute_result"
    }
   ],
   "source": [
    "# Check for imported data\n",
    "df_instacart.head()"
   ]
  },
  {
   "cell_type": "code",
   "execution_count": 8,
   "id": "350cd3d9",
   "metadata": {},
   "outputs": [
    {
     "data": {
      "text/plain": [
       "(32399732, 31)"
      ]
     },
     "execution_count": 8,
     "metadata": {},
     "output_type": "execute_result"
    }
   ],
   "source": [
    "df_instacart.shape"
   ]
  },
  {
   "cell_type": "code",
   "execution_count": 9,
   "id": "076af7f8",
   "metadata": {},
   "outputs": [],
   "source": [
    "# Check for the data type"
   ]
  },
  {
   "cell_type": "code",
   "execution_count": 10,
   "id": "37a7e871",
   "metadata": {},
   "outputs": [
    {
     "data": {
      "text/plain": [
       "order_id                     int32\n",
       "user_id                      int32\n",
       "order_number                 int16\n",
       "orders_day_of_week            int8\n",
       "order_hour_of_day             int8\n",
       "days_since_prior_order     float64\n",
       "first_order                   bool\n",
       "product_id                   int32\n",
       "add_to_cart_order            int16\n",
       "reordered                     int8\n",
       "product_name                object\n",
       "aisle_id                     int16\n",
       "department_id                 int8\n",
       "prices                     float64\n",
       "price_range_loc             object\n",
       "busiest_day                 object\n",
       "busiest_slowest_days        object\n",
       "busiest_period_of_day       object\n",
       "max_order                    int16\n",
       "loyalty_flag                object\n",
       "average_spending           float64\n",
       "spender_flag                object\n",
       "median_days_prior_order    float64\n",
       "order_frequency_flag        object\n",
       "gender                      object\n",
       "states                      object\n",
       "age                           int8\n",
       "date_joined                 object\n",
       "number_dependants             int8\n",
       "family_status               object\n",
       "income                       int64\n",
       "dtype: object"
      ]
     },
     "execution_count": 10,
     "metadata": {},
     "output_type": "execute_result"
    }
   ],
   "source": [
    "df_instacart.dtypes"
   ]
  },
  {
   "cell_type": "markdown",
   "id": "9f28bb13",
   "metadata": {},
   "source": [
    "### Security implications. In the Instacart dataframe, customers' first and last names are considered personal data. The first and last name columns were removed in the previous exercise to reduce file size since we will not be using this data in our analysis. Another important reason to omit these columns is to prevent disclosure of personal information. Apart from the first and last name, there is no other data that could be considered PII."
   ]
  },
  {
   "cell_type": "markdown",
   "id": "c9005f33",
   "metadata": {},
   "source": [
    "## Step 3. Customers' spending habits by geographic areas"
   ]
  },
  {
   "cell_type": "code",
   "execution_count": 15,
   "id": "723c7b05",
   "metadata": {},
   "outputs": [
    {
     "data": {
      "text/plain": [
       "states\n",
       "Pennsylvania            667007\n",
       "California              659695\n",
       "Rhode Island            656777\n",
       "Georgia                 656249\n",
       "New Mexico              654400\n",
       "Arizona                 653864\n",
       "North Carolina          651790\n",
       "Oklahoma                651661\n",
       "Alaska                  648451\n",
       "Minnesota               647738\n",
       "Massachusetts           646275\n",
       "Wyoming                 644191\n",
       "Virginia                641280\n",
       "Missouri                640576\n",
       "Texas                   640285\n",
       "Colorado                639173\n",
       "Maine                   638479\n",
       "North Dakota            638391\n",
       "Alabama                 637863\n",
       "Kansas                  637418\n",
       "Louisiana               637414\n",
       "Delaware                636906\n",
       "South Carolina          636677\n",
       "Oregon                  636332\n",
       "Arkansas                636070\n",
       "Nevada                  636034\n",
       "New York                635912\n",
       "Montana                 635181\n",
       "South Dakota            633649\n",
       "Illinois                632928\n",
       "Hawaii                  632786\n",
       "Washington              632722\n",
       "Mississippi             632575\n",
       "Kentucky                632389\n",
       "Michigan                630816\n",
       "Florida                 628964\n",
       "Ohio                    628218\n",
       "Wisconsin               627981\n",
       "New Jersey              627599\n",
       "Indiana                 627185\n",
       "Maryland                626402\n",
       "Nebraska                625736\n",
       "Iowa                    625429\n",
       "Connecticut             622940\n",
       "Tennessee               617783\n",
       "New Hampshire           615259\n",
       "District of Columbia    613598\n",
       "West Virginia           612190\n",
       "Utah                    611814\n",
       "Vermont                 611644\n",
       "Idaho                   607036\n",
       "Name: count, dtype: int64"
      ]
     },
     "execution_count": 15,
     "metadata": {},
     "output_type": "execute_result"
    }
   ],
   "source": [
    "# Check for the variable in the 'state' column\n",
    "df_instacart['states'].value_counts(dropna=False)"
   ]
  },
  {
   "cell_type": "code",
   "execution_count": 17,
   "id": "ed0f376a",
   "metadata": {},
   "outputs": [],
   "source": [
    "# Create the list of Northeast states\n",
    "northeast=['Maine', 'New Hampshire', 'Vermont', 'Massachusetts', 'Rhode Island', 'Connecticut', 'New York', 'Pennsylvania', 'New Jersey']"
   ]
  },
  {
   "cell_type": "code",
   "execution_count": 18,
   "id": "ef42ad41",
   "metadata": {},
   "outputs": [],
   "source": [
    "# Create the list of Midwest states\n",
    "midwest=['Wisconsin', 'Michigan', 'Illinois', 'Indiana', 'Ohio', 'North Dakota', 'South Dakota', 'Nebraska', 'Kansas', 'Minnesota', 'Iowa', 'Missouri']"
   ]
  },
  {
   "cell_type": "code",
   "execution_count": 19,
   "id": "e69418b4",
   "metadata": {},
   "outputs": [],
   "source": [
    "# Create the list of South states\n",
    "south=['Delaware', 'Maryland', 'District of Columbia', 'Virginia', 'West Virginia', 'North Carolina', 'South Carolina', 'Georgia', 'Florida', 'Kentucky', 'Tennessee', 'Mississippi', 'Alabama', 'Oklahoma', 'Texas', 'Arkansas', 'Louisiana']"
   ]
  },
  {
   "cell_type": "code",
   "execution_count": 20,
   "id": "bf9959f8",
   "metadata": {},
   "outputs": [],
   "source": [
    "# Create the list of West states\n",
    "west=['Idaho', 'Montana', 'Wyoming', 'Nevada', 'Utah', 'Colorado', 'Arizona', 'New Mexico', 'Alaska', 'Washington', 'Oregon', 'California', 'Hawaii']"
   ]
  },
  {
   "cell_type": "code",
   "execution_count": 22,
   "id": "9d2644bd",
   "metadata": {},
   "outputs": [],
   "source": [
    "# Create a new column 'regions' and assign Northeast region\n",
    "df_instacart.loc[df_instacart['states'].isin(northeast), 'regions']='Northeast'"
   ]
  },
  {
   "cell_type": "code",
   "execution_count": 23,
   "id": "2f971245",
   "metadata": {},
   "outputs": [],
   "source": [
    "# Assign Midwest flag in the new column 'regions'\n",
    "df_instacart.loc[df_instacart['states'].isin(midwest), 'regions']='Midwest'"
   ]
  },
  {
   "cell_type": "code",
   "execution_count": 25,
   "id": "5d26b223",
   "metadata": {},
   "outputs": [],
   "source": [
    "# Assign South region flag in the new column 'regions'\n",
    "df_instacart.loc[df_instacart['states'].isin(south), 'regions']='South'"
   ]
  },
  {
   "cell_type": "code",
   "execution_count": 26,
   "id": "2a0ebd9c",
   "metadata": {},
   "outputs": [],
   "source": [
    "# Assign West region flag in the new column 'regions'\n",
    "df_instacart.loc[df_instacart['states'].isin(west), 'regions']='West'"
   ]
  },
  {
   "cell_type": "code",
   "execution_count": 27,
   "id": "e349bb80",
   "metadata": {},
   "outputs": [
    {
     "data": {
      "text/plain": [
       "regions\n",
       "South        10790096\n",
       "West          8291679\n",
       "Midwest       7596065\n",
       "Northeast     5721892\n",
       "Name: count, dtype: int64"
      ]
     },
     "execution_count": 27,
     "metadata": {},
     "output_type": "execute_result"
    }
   ],
   "source": [
    "# Check for the frequency of values in the 'region' column\n",
    "df_instacart['regions'].value_counts(dropna=False)"
   ]
  },
  {
   "cell_type": "code",
   "execution_count": 28,
   "id": "79ebce08",
   "metadata": {},
   "outputs": [
    {
     "data": {
      "text/plain": [
       "(32399732, 32)"
      ]
     },
     "execution_count": 28,
     "metadata": {},
     "output_type": "execute_result"
    }
   ],
   "source": [
    "df_instacart.shape"
   ]
  },
  {
   "cell_type": "code",
   "execution_count": 30,
   "id": "19059bb0",
   "metadata": {},
   "outputs": [
    {
     "data": {
      "text/plain": [
       "spender_flag\n",
       "Low spender     32280013\n",
       "High spender      119719\n",
       "Name: count, dtype: int64"
      ]
     },
     "execution_count": 30,
     "metadata": {},
     "output_type": "execute_result"
    }
   ],
   "source": [
    "# Check for variable in the 'spender flag' column\n",
    "df_instacart['spender_flag'].value_counts(dropna=False)"
   ]
  },
  {
   "cell_type": "code",
   "execution_count": 34,
   "id": "0bbf730d",
   "metadata": {},
   "outputs": [],
   "source": [
    "# Create a cross table of High-, Low spenders by region \n",
    "spender_by_region=pd.crosstab(df_instacart['spender_flag'], df_instacart['regions'], dropna=False)"
   ]
  },
  {
   "cell_type": "code",
   "execution_count": 35,
   "id": "b004f08f",
   "metadata": {},
   "outputs": [
    {
     "data": {
      "text/html": [
       "<div>\n",
       "<style scoped>\n",
       "    .dataframe tbody tr th:only-of-type {\n",
       "        vertical-align: middle;\n",
       "    }\n",
       "\n",
       "    .dataframe tbody tr th {\n",
       "        vertical-align: top;\n",
       "    }\n",
       "\n",
       "    .dataframe thead th {\n",
       "        text-align: right;\n",
       "    }\n",
       "</style>\n",
       "<table border=\"1\" class=\"dataframe\">\n",
       "  <thead>\n",
       "    <tr style=\"text-align: right;\">\n",
       "      <th>regions</th>\n",
       "      <th>Midwest</th>\n",
       "      <th>Northeast</th>\n",
       "      <th>South</th>\n",
       "      <th>West</th>\n",
       "    </tr>\n",
       "    <tr>\n",
       "      <th>spender_flag</th>\n",
       "      <th></th>\n",
       "      <th></th>\n",
       "      <th></th>\n",
       "      <th></th>\n",
       "    </tr>\n",
       "  </thead>\n",
       "  <tbody>\n",
       "    <tr>\n",
       "      <th>High spender</th>\n",
       "      <td>29265</td>\n",
       "      <td>18639</td>\n",
       "      <td>40577</td>\n",
       "      <td>31238</td>\n",
       "    </tr>\n",
       "    <tr>\n",
       "      <th>Low spender</th>\n",
       "      <td>7566800</td>\n",
       "      <td>5703253</td>\n",
       "      <td>10749519</td>\n",
       "      <td>8260441</td>\n",
       "    </tr>\n",
       "  </tbody>\n",
       "</table>\n",
       "</div>"
      ],
      "text/plain": [
       "regions       Midwest  Northeast     South     West\n",
       "spender_flag                                       \n",
       "High spender    29265      18639     40577    31238\n",
       "Low spender   7566800    5703253  10749519  8260441"
      ]
     },
     "execution_count": 35,
     "metadata": {},
     "output_type": "execute_result"
    }
   ],
   "source": [
    "spender_by_region"
   ]
  },
  {
   "cell_type": "code",
   "execution_count": 38,
   "id": "7ab32957",
   "metadata": {},
   "outputs": [],
   "source": [
    "spender_by_region2=pd.crosstab(df_instacart['regions'], df_instacart['spender_flag'], dropna=False).sort_values(by='High spender', ascending=False)"
   ]
  },
  {
   "cell_type": "code",
   "execution_count": 39,
   "id": "6c8b2f0d",
   "metadata": {},
   "outputs": [
    {
     "data": {
      "text/html": [
       "<div>\n",
       "<style scoped>\n",
       "    .dataframe tbody tr th:only-of-type {\n",
       "        vertical-align: middle;\n",
       "    }\n",
       "\n",
       "    .dataframe tbody tr th {\n",
       "        vertical-align: top;\n",
       "    }\n",
       "\n",
       "    .dataframe thead th {\n",
       "        text-align: right;\n",
       "    }\n",
       "</style>\n",
       "<table border=\"1\" class=\"dataframe\">\n",
       "  <thead>\n",
       "    <tr style=\"text-align: right;\">\n",
       "      <th>spender_flag</th>\n",
       "      <th>High spender</th>\n",
       "      <th>Low spender</th>\n",
       "    </tr>\n",
       "    <tr>\n",
       "      <th>regions</th>\n",
       "      <th></th>\n",
       "      <th></th>\n",
       "    </tr>\n",
       "  </thead>\n",
       "  <tbody>\n",
       "    <tr>\n",
       "      <th>South</th>\n",
       "      <td>40577</td>\n",
       "      <td>10749519</td>\n",
       "    </tr>\n",
       "    <tr>\n",
       "      <th>West</th>\n",
       "      <td>31238</td>\n",
       "      <td>8260441</td>\n",
       "    </tr>\n",
       "    <tr>\n",
       "      <th>Midwest</th>\n",
       "      <td>29265</td>\n",
       "      <td>7566800</td>\n",
       "    </tr>\n",
       "    <tr>\n",
       "      <th>Northeast</th>\n",
       "      <td>18639</td>\n",
       "      <td>5703253</td>\n",
       "    </tr>\n",
       "  </tbody>\n",
       "</table>\n",
       "</div>"
      ],
      "text/plain": [
       "spender_flag  High spender  Low spender\n",
       "regions                                \n",
       "South                40577     10749519\n",
       "West                 31238      8260441\n",
       "Midwest              29265      7566800\n",
       "Northeast            18639      5703253"
      ]
     },
     "execution_count": 39,
     "metadata": {},
     "output_type": "execute_result"
    }
   ],
   "source": [
    "spender_by_region2"
   ]
  },
  {
   "cell_type": "markdown",
   "id": "80e4b056",
   "metadata": {},
   "source": [
    "### Observations: More than 99% of customers are ranked as ‘low spenders’ which means that the average price of the products in their order is lower than 10. This trend is observed both globally and in the four regions. "
   ]
  },
  {
   "cell_type": "code",
   "execution_count": 42,
   "id": "d15ce151",
   "metadata": {
    "scrolled": true
   },
   "outputs": [
    {
     "data": {
      "text/plain": [
       "price_range_loc\n",
       "Mid range product     21860860\n",
       "Low range product     10126321\n",
       "High range product      412551\n",
       "Name: count, dtype: int64"
      ]
     },
     "execution_count": 42,
     "metadata": {},
     "output_type": "execute_result"
    }
   ],
   "source": [
    "df_instacart['price_range_loc'].value_counts(dropna=False)"
   ]
  },
  {
   "cell_type": "code",
   "execution_count": 43,
   "id": "3f07685d",
   "metadata": {},
   "outputs": [],
   "source": [
    "# Create a cross table of price range by region \n",
    "price_range_by_region=pd.crosstab(df_instacart['regions'], df_instacart['price_range_loc'], dropna=False).sort_values(by='High range product', ascending=False)"
   ]
  },
  {
   "cell_type": "code",
   "execution_count": 44,
   "id": "1170bfb3",
   "metadata": {},
   "outputs": [
    {
     "data": {
      "text/html": [
       "<div>\n",
       "<style scoped>\n",
       "    .dataframe tbody tr th:only-of-type {\n",
       "        vertical-align: middle;\n",
       "    }\n",
       "\n",
       "    .dataframe tbody tr th {\n",
       "        vertical-align: top;\n",
       "    }\n",
       "\n",
       "    .dataframe thead th {\n",
       "        text-align: right;\n",
       "    }\n",
       "</style>\n",
       "<table border=\"1\" class=\"dataframe\">\n",
       "  <thead>\n",
       "    <tr style=\"text-align: right;\">\n",
       "      <th>price_range_loc</th>\n",
       "      <th>High range product</th>\n",
       "      <th>Low range product</th>\n",
       "      <th>Mid range product</th>\n",
       "    </tr>\n",
       "    <tr>\n",
       "      <th>regions</th>\n",
       "      <th></th>\n",
       "      <th></th>\n",
       "      <th></th>\n",
       "    </tr>\n",
       "  </thead>\n",
       "  <tbody>\n",
       "    <tr>\n",
       "      <th>South</th>\n",
       "      <td>137601</td>\n",
       "      <td>3368338</td>\n",
       "      <td>7284157</td>\n",
       "    </tr>\n",
       "    <tr>\n",
       "      <th>West</th>\n",
       "      <td>105934</td>\n",
       "      <td>2592736</td>\n",
       "      <td>5593009</td>\n",
       "    </tr>\n",
       "    <tr>\n",
       "      <th>Midwest</th>\n",
       "      <td>96658</td>\n",
       "      <td>2372304</td>\n",
       "      <td>5127103</td>\n",
       "    </tr>\n",
       "    <tr>\n",
       "      <th>Northeast</th>\n",
       "      <td>72358</td>\n",
       "      <td>1792943</td>\n",
       "      <td>3856591</td>\n",
       "    </tr>\n",
       "  </tbody>\n",
       "</table>\n",
       "</div>"
      ],
      "text/plain": [
       "price_range_loc  High range product  Low range product  Mid range product\n",
       "regions                                                                  \n",
       "South                        137601            3368338            7284157\n",
       "West                         105934            2592736            5593009\n",
       "Midwest                       96658            2372304            5127103\n",
       "Northeast                     72358            1792943            3856591"
      ]
     },
     "execution_count": 44,
     "metadata": {},
     "output_type": "execute_result"
    }
   ],
   "source": [
    "price_range_by_region"
   ]
  },
  {
   "cell_type": "markdown",
   "id": "4004c4ca",
   "metadata": {},
   "source": [
    "### Observations: About 68% of customers purchase mid-range products whose price per item is above 5 but lower than or equal to 15. About 30% of clients select low-rage products with prices lower than or equal to 5. Far fewer customers buy high-range products when the price exceeds 15."
   ]
  },
  {
   "cell_type": "markdown",
   "id": "7f610c9a",
   "metadata": {},
   "source": [
    "## Step 4. Creating an exclusion flag for low-activity customers "
   ]
  },
  {
   "cell_type": "code",
   "execution_count": 47,
   "id": "37d7f7c7",
   "metadata": {},
   "outputs": [
    {
     "data": {
      "text/plain": [
       "max_order\n",
       "99    1171076\n",
       "8      811706\n",
       "6      811237\n",
       "9      810057\n",
       "7      803838\n",
       "       ...   \n",
       "97      44949\n",
       "98      44585\n",
       "96      40449\n",
       "2           6\n",
       "1           5\n",
       "Name: count, Length: 99, dtype: int64"
      ]
     },
     "execution_count": 47,
     "metadata": {},
     "output_type": "execute_result"
    }
   ],
   "source": [
    "# Check for values in 'max order' column\n",
    "df_instacart['max_order'].value_counts(dropna=False)"
   ]
  },
  {
   "cell_type": "code",
   "execution_count": 48,
   "id": "01248307",
   "metadata": {},
   "outputs": [],
   "source": [
    "# Create a new column 'activity_flag' and assign customers activity label 'Low activity' if max order number <5\n",
    "df_instacart.loc[df_instacart['max_order']<5, 'activity_flag']='Low activity'"
   ]
  },
  {
   "cell_type": "code",
   "execution_count": 49,
   "id": "d6243ef3",
   "metadata": {},
   "outputs": [],
   "source": [
    "# Create a new column 'activity_flag' and assign customers activity label 'High activity' if max order number >=5\n",
    "df_instacart.loc[df_instacart['max_order']>=5, 'activity_flag']='High activity'"
   ]
  },
  {
   "cell_type": "code",
   "execution_count": 50,
   "id": "a66723bb",
   "metadata": {},
   "outputs": [
    {
     "data": {
      "text/plain": [
       "activity_flag\n",
       "High activity    30959687\n",
       "Low activity      1440045\n",
       "Name: count, dtype: int64"
      ]
     },
     "execution_count": 50,
     "metadata": {},
     "output_type": "execute_result"
    }
   ],
   "source": [
    "# Check for values in the new column 'activity flag'\n",
    "df_instacart['activity_flag'].value_counts(dropna=False)"
   ]
  },
  {
   "cell_type": "code",
   "execution_count": 51,
   "id": "649fec7e",
   "metadata": {},
   "outputs": [
    {
     "data": {
      "text/plain": [
       "(32399732, 33)"
      ]
     },
     "execution_count": 51,
     "metadata": {},
     "output_type": "execute_result"
    }
   ],
   "source": [
    "# Check for the number of rows and columns after adding 'activity flag' column\n",
    "df_instacart.shape"
   ]
  },
  {
   "cell_type": "code",
   "execution_count": 52,
   "id": "37f2d44c",
   "metadata": {},
   "outputs": [],
   "source": [
    "# Create a subset of Low activity customers\n",
    "low_activity_customers=df_instacart.loc[df_instacart['activity_flag']=='Low activity']"
   ]
  },
  {
   "cell_type": "code",
   "execution_count": 53,
   "id": "b1f3c3e9",
   "metadata": {},
   "outputs": [
    {
     "data": {
      "text/plain": [
       "(1440045, 33)"
      ]
     },
     "execution_count": 53,
     "metadata": {},
     "output_type": "execute_result"
    }
   ],
   "source": [
    "# Check for the data in the subset of Low activity customers\n",
    "low_activity_customers.shape"
   ]
  },
  {
   "cell_type": "code",
   "execution_count": 56,
   "id": "8d813abd",
   "metadata": {},
   "outputs": [
    {
     "data": {
      "text/plain": [
       "count    1.440045e+06\n",
       "mean     3.523177e+00\n",
       "std      4.994919e-01\n",
       "min      1.000000e+00\n",
       "25%      3.000000e+00\n",
       "50%      4.000000e+00\n",
       "75%      4.000000e+00\n",
       "max      4.000000e+00\n",
       "Name: max_order, dtype: float64"
      ]
     },
     "execution_count": 56,
     "metadata": {},
     "output_type": "execute_result"
    }
   ],
   "source": [
    "low_activity_customers['max_order'].describe()"
   ]
  },
  {
   "cell_type": "code",
   "execution_count": 57,
   "id": "8a4cfcd2",
   "metadata": {},
   "outputs": [],
   "source": [
    "# Create a subset of Hight activity customers\n",
    "high_activity_customers=df_instacart.loc[df_instacart['activity_flag']=='High activity']"
   ]
  },
  {
   "cell_type": "code",
   "execution_count": 58,
   "id": "ba54ca16",
   "metadata": {},
   "outputs": [
    {
     "data": {
      "text/plain": [
       "(30959687, 33)"
      ]
     },
     "execution_count": 58,
     "metadata": {},
     "output_type": "execute_result"
    }
   ],
   "source": [
    "# Check for the data in the subset of High activity customers\n",
    "high_activity_customers.shape"
   ]
  },
  {
   "cell_type": "code",
   "execution_count": 59,
   "id": "f3afe49e",
   "metadata": {},
   "outputs": [
    {
     "data": {
      "text/plain": [
       "count    3.095969e+07\n",
       "mean     3.442621e+01\n",
       "std      2.489502e+01\n",
       "min      5.000000e+00\n",
       "25%      1.400000e+01\n",
       "50%      2.800000e+01\n",
       "75%      4.800000e+01\n",
       "max      9.900000e+01\n",
       "Name: max_order, dtype: float64"
      ]
     },
     "execution_count": 59,
     "metadata": {},
     "output_type": "execute_result"
    }
   ],
   "source": [
    "high_activity_customers['max_order'].describe()"
   ]
  },
  {
   "cell_type": "markdown",
   "id": "f3f9985c",
   "metadata": {},
   "source": [
    "## Step 5. Customers profiling"
   ]
  },
  {
   "cell_type": "code",
   "execution_count": 62,
   "id": "9c8bf810",
   "metadata": {},
   "outputs": [
    {
     "data": {
      "text/plain": [
       "count    3.239973e+07\n",
       "mean     4.946528e+01\n",
       "std      1.848558e+01\n",
       "min      1.800000e+01\n",
       "25%      3.300000e+01\n",
       "50%      4.900000e+01\n",
       "75%      6.500000e+01\n",
       "max      8.100000e+01\n",
       "Name: age, dtype: float64"
      ]
     },
     "execution_count": 62,
     "metadata": {},
     "output_type": "execute_result"
    }
   ],
   "source": [
    "df_instacart['age'].describe()"
   ]
  },
  {
   "cell_type": "code",
   "execution_count": 63,
   "id": "c94c0cd4",
   "metadata": {},
   "outputs": [
    {
     "data": {
      "text/plain": [
       "count    3.239973e+07\n",
       "mean     9.941685e+04\n",
       "std      4.300669e+04\n",
       "min      2.590300e+04\n",
       "25%      6.699600e+04\n",
       "50%      9.660800e+04\n",
       "75%      1.278840e+05\n",
       "max      5.939010e+05\n",
       "Name: income, dtype: float64"
      ]
     },
     "execution_count": 63,
     "metadata": {},
     "output_type": "execute_result"
    }
   ],
   "source": [
    "df_instacart['income'].describe()"
   ]
  },
  {
   "cell_type": "code",
   "execution_count": 64,
   "id": "acd59450",
   "metadata": {},
   "outputs": [
    {
     "data": {
      "text/plain": [
       "number_dependants\n",
       "3    8133827\n",
       "0    8096275\n",
       "2    8089749\n",
       "1    8079881\n",
       "Name: count, dtype: int64"
      ]
     },
     "execution_count": 64,
     "metadata": {},
     "output_type": "execute_result"
    }
   ],
   "source": [
    "df_instacart['number_dependants'].value_counts(dropna=False)"
   ]
  },
  {
   "cell_type": "code",
   "execution_count": 65,
   "id": "d91bbc39",
   "metadata": {},
   "outputs": [
    {
     "data": {
      "text/plain": [
       "gender\n",
       "Male      16312444\n",
       "Female    16087288\n",
       "Name: count, dtype: int64"
      ]
     },
     "execution_count": 65,
     "metadata": {},
     "output_type": "execute_result"
    }
   ],
   "source": [
    "df_instacart['gender'].value_counts(dropna=False)"
   ]
  },
  {
   "cell_type": "code",
   "execution_count": 66,
   "id": "e0ce0b7f",
   "metadata": {},
   "outputs": [
    {
     "data": {
      "text/plain": [
       "family_status\n",
       "married                             22753055\n",
       "single                               5324920\n",
       "divorced/widowed                     2771355\n",
       "living with parents and siblings     1550402\n",
       "Name: count, dtype: int64"
      ]
     },
     "execution_count": 66,
     "metadata": {},
     "output_type": "execute_result"
    }
   ],
   "source": [
    "df_instacart['family_status'].value_counts(dropna=False)"
   ]
  },
  {
   "cell_type": "code",
   "execution_count": null,
   "id": "a57707c6",
   "metadata": {},
   "outputs": [],
   "source": []
  }
 ],
 "metadata": {
  "kernelspec": {
   "display_name": "Python 3 (ipykernel)",
   "language": "python",
   "name": "python3"
  },
  "language_info": {
   "codemirror_mode": {
    "name": "ipython",
    "version": 3
   },
   "file_extension": ".py",
   "mimetype": "text/x-python",
   "name": "python",
   "nbconvert_exporter": "python",
   "pygments_lexer": "ipython3",
   "version": "3.11.5"
  }
 },
 "nbformat": 4,
 "nbformat_minor": 5
}
