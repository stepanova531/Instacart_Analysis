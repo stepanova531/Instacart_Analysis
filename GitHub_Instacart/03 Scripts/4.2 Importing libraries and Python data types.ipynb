{
 "cells": [
  {
   "cell_type": "markdown",
   "id": "b192caf4",
   "metadata": {},
   "source": [
    "#01.Importing libraries"
   ]
  },
  {
   "cell_type": "code",
   "execution_count": 1,
   "id": "a9ab411f",
   "metadata": {},
   "outputs": [],
   "source": [
    "#Import Libraries\n",
    "import pandas as pn\n",
    "import numpy as np\n",
    "import os"
   ]
  },
  {
   "cell_type": "markdown",
   "id": "592ca703",
   "metadata": {},
   "source": [
    "#02.Python data types"
   ]
  },
  {
   "cell_type": "code",
   "execution_count": 30,
   "id": "88d2a7db",
   "metadata": {},
   "outputs": [],
   "source": [
    "#Integer\n",
    "x=100"
   ]
  },
  {
   "cell_type": "code",
   "execution_count": 31,
   "id": "9d7199d2",
   "metadata": {},
   "outputs": [
    {
     "name": "stdout",
     "output_type": "stream",
     "text": [
      "100\n"
     ]
    }
   ],
   "source": [
    "print(x)"
   ]
  },
  {
   "cell_type": "code",
   "execution_count": 32,
   "id": "4cce6934",
   "metadata": {},
   "outputs": [],
   "source": [
    "y=50"
   ]
  },
  {
   "cell_type": "code",
   "execution_count": 33,
   "id": "83dc509b",
   "metadata": {},
   "outputs": [
    {
     "data": {
      "text/plain": [
       "100"
      ]
     },
     "execution_count": 33,
     "metadata": {},
     "output_type": "execute_result"
    }
   ],
   "source": [
    "x+y-y"
   ]
  },
  {
   "cell_type": "code",
   "execution_count": 34,
   "id": "ea5864e4",
   "metadata": {},
   "outputs": [],
   "source": [
    "x=x+50"
   ]
  },
  {
   "cell_type": "code",
   "execution_count": 35,
   "id": "eb6270a4",
   "metadata": {},
   "outputs": [
    {
     "data": {
      "text/plain": [
       "100"
      ]
     },
     "execution_count": 35,
     "metadata": {},
     "output_type": "execute_result"
    }
   ],
   "source": [
    "x-y"
   ]
  },
  {
   "cell_type": "code",
   "execution_count": 36,
   "id": "d8fb08d7",
   "metadata": {},
   "outputs": [],
   "source": [
    "#Floating-point\n",
    "p=3.141592654"
   ]
  },
  {
   "cell_type": "code",
   "execution_count": 43,
   "id": "92913d65",
   "metadata": {},
   "outputs": [],
   "source": [
    "c=628.3185308"
   ]
  },
  {
   "cell_type": "code",
   "execution_count": 47,
   "id": "ebf162e5",
   "metadata": {},
   "outputs": [],
   "source": [
    "r=c/p/2"
   ]
  },
  {
   "cell_type": "code",
   "execution_count": 48,
   "id": "855374bb",
   "metadata": {},
   "outputs": [
    {
     "name": "stdout",
     "output_type": "stream",
     "text": [
      "99.99999999999999\n"
     ]
    }
   ],
   "source": [
    "print(r)"
   ]
  },
  {
   "cell_type": "code",
   "execution_count": 49,
   "id": "0c5fe1c2",
   "metadata": {},
   "outputs": [],
   "source": [
    "a='Achieve '"
   ]
  },
  {
   "cell_type": "code",
   "execution_count": 57,
   "id": "d5caa4c9",
   "metadata": {},
   "outputs": [],
   "source": [
    "t=' the '"
   ]
  },
  {
   "cell_type": "code",
   "execution_count": 55,
   "id": "03ee24f4",
   "metadata": {},
   "outputs": [],
   "source": [
    "i='impossible.'"
   ]
  },
  {
   "cell_type": "code",
   "execution_count": 58,
   "id": "69dda5b3",
   "metadata": {},
   "outputs": [
    {
     "data": {
      "text/plain": [
       "'Achieve the impossible.'"
      ]
     },
     "execution_count": 58,
     "metadata": {},
     "output_type": "execute_result"
    }
   ],
   "source": [
    "a+t+i"
   ]
  },
  {
   "cell_type": "code",
   "execution_count": 59,
   "id": "89bbf710",
   "metadata": {},
   "outputs": [],
   "source": [
    "b='Believe'"
   ]
  },
  {
   "cell_type": "code",
   "execution_count": 60,
   "id": "4f5f8c7c",
   "metadata": {},
   "outputs": [],
   "source": [
    "y=' you '"
   ]
  },
  {
   "cell_type": "code",
   "execution_count": 61,
   "id": "c8e6c838",
   "metadata": {},
   "outputs": [],
   "source": [
    "c='can.'"
   ]
  },
  {
   "cell_type": "code",
   "execution_count": 62,
   "id": "cdbbbf99",
   "metadata": {},
   "outputs": [
    {
     "data": {
      "text/plain": [
       "'Believe you can.'"
      ]
     },
     "execution_count": 62,
     "metadata": {},
     "output_type": "execute_result"
    }
   ],
   "source": [
    "b+y+c"
   ]
  },
  {
   "cell_type": "code",
   "execution_count": 63,
   "id": "77e4d12f",
   "metadata": {},
   "outputs": [
    {
     "data": {
      "text/plain": [
       "'BelieveBelieveBelieveBelieveBelieveBelieveBelieveBelieveBelieveBelieveBelieveBelieveBelieveBelieveBelieveBelieveBelieveBelieveBelieveBelieveBelieveBelieveBelieveBelieveBelieveBelieveBelieveBelieveBelieveBelieveBelieveBelieveBelieveBelieveBelieveBelieveBelieveBelieveBelieveBelieveBelieveBelieveBelieveBelieveBelieveBelieveBelieveBelieveBelieveBelieveBelieveBelieveBelieveBelieveBelieveBelieveBelieveBelieveBelieveBelieveBelieveBelieveBelieveBelieveBelieveBelieveBelieveBelieveBelieveBelieveBelieveBelieveBelieveBelieveBelieveBelieveBelieveBelieveBelieveBelieveBelieveBelieveBelieveBelieveBelieveBelieveBelieveBelieveBelieveBelieveBelieveBelieveBelieveBelieveBelieveBelieveBelieveBelieveBelieveBelieve'"
      ]
     },
     "execution_count": 63,
     "metadata": {},
     "output_type": "execute_result"
    }
   ],
   "source": [
    "#Strings\n",
    "b*100"
   ]
  },
  {
   "cell_type": "code",
   "execution_count": null,
   "id": "2eb606a3",
   "metadata": {},
   "outputs": [],
   "source": []
  }
 ],
 "metadata": {
  "kernelspec": {
   "display_name": "Python 3 (ipykernel)",
   "language": "python",
   "name": "python3"
  },
  "language_info": {
   "codemirror_mode": {
    "name": "ipython",
    "version": 3
   },
   "file_extension": ".py",
   "mimetype": "text/x-python",
   "name": "python",
   "nbconvert_exporter": "python",
   "pygments_lexer": "ipython3",
   "version": "3.11.5"
  }
 },
 "nbformat": 4,
 "nbformat_minor": 5
}
